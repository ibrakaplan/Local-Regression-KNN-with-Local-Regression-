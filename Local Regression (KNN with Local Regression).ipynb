{
 "cells": [
  {
   "cell_type": "code",
   "execution_count": 266,
   "id": "loaded-holmes",
   "metadata": {},
   "outputs": [],
   "source": [
    "import numpy as np\n",
    "import pandas as pd\n",
    "import matplotlib.pyplot as plt\n",
    "import seaborn as sns\n",
    "from sklearn.neighbors import KNeighborsClassifier,KNeighborsRegressor\n",
    "from sklearn.model_selection import train_test_split\n",
    "from sklearn.metrics import confusion_matrix, precision_score, recall_score, f1_score, classification_report\n",
    "from sklearn.metrics import mean_absolute_error, mean_squared_error\n",
    "from sklearn.linear_model import LinearRegression"
   ]
  },
  {
   "cell_type": "code",
   "execution_count": 267,
   "id": "exceptional-pattern",
   "metadata": {},
   "outputs": [],
   "source": [
    "from sklearn.datasets import make_regression"
   ]
  },
  {
   "cell_type": "code",
   "execution_count": 268,
   "id": "endless-surgeon",
   "metadata": {},
   "outputs": [],
   "source": [
    "X,y = make_regression(n_samples=100,n_features=2,n_informative=2)"
   ]
  },
  {
   "cell_type": "code",
   "execution_count": 269,
   "id": "unique-needle",
   "metadata": {},
   "outputs": [
    {
     "data": {
      "text/plain": [
       "<matplotlib.collections.PathCollection at 0x2ccb71eee48>"
      ]
     },
     "execution_count": 269,
     "metadata": {},
     "output_type": "execute_result"
    },
    {
     "data": {
      "image/png": "[encoded data removed]",
      "text/plain": [
       "<Figure size 432x288 with 1 Axes>"
      ]
     },
     "metadata": {
      "needs_background": "light"
     },
     "output_type": "display_data"
    }
   ],
   "source": [
    "plt.scatter(X.T[0],X.T[1], c=y)"
   ]
  },
  {
   "cell_type": "code",
   "execution_count": 270,
   "id": "tribal-marker",
   "metadata": {},
   "outputs": [],
   "source": [
    "X_train, X_test, y_train, y_test = train_test_split(X,y,test_size=0.25, random_state=42)"
   ]
  },
  {
   "cell_type": "code",
   "execution_count": 271,
   "id": "genuine-beverage",
   "metadata": {},
   "outputs": [],
   "source": [
    "model=KNeighborsRegressor()"
   ]
  },
  {
   "cell_type": "code",
   "execution_count": 272,
   "id": "isolated-groove",
   "metadata": {},
   "outputs": [
    {
     "data": {
      "text/plain": [
       "KNeighborsRegressor()"
      ]
     },
     "execution_count": 272,
     "metadata": {},
     "output_type": "execute_result"
    }
   ],
   "source": [
    "model.fit(X_train,y_train) # knn regression model was fitted."
   ]
  },
  {
   "cell_type": "markdown",
   "id": "wired-phenomenon",
   "metadata": {},
   "source": [
    "#### Starting linear model here."
   ]
  },
  {
   "cell_type": "code",
   "execution_count": 273,
   "id": "fifteen-budget",
   "metadata": {},
   "outputs": [],
   "source": [
    "nearestneighbor=model.kneighbors(np.array(X_test[0]).reshape(-1,2))[1] # We located the neighbors."
   ]
  },
  {
   "cell_type": "code",
   "execution_count": 274,
   "id": "statewide-fellowship",
   "metadata": {},
   "outputs": [],
   "source": [
    "neighbors_x = [] # x and y data were created from close neighbors here.\n",
    "neighbors_y = []\n",
    "for i in nearestneighbor:\n",
    "    neighbors_x.append(X_train[i])\n",
    "    neighbors_y.append(y_train[i])"
   ]
  },
  {
   "cell_type": "code",
   "execution_count": 275,
   "id": "permanent-devon",
   "metadata": {},
   "outputs": [],
   "source": [
    "neighbors_x = np.array(neighbors_x) # The list has been converted to np.array to be able to reshape."
   ]
  },
  {
   "cell_type": "code",
   "execution_count": 276,
   "id": "spectacular-pontiac",
   "metadata": {},
   "outputs": [],
   "source": [
    "neighbors_y = np.array(neighbors_y)"
   ]
  },
  {
   "cell_type": "code",
   "execution_count": 277,
   "id": "valid-progressive",
   "metadata": {},
   "outputs": [],
   "source": [
    "linermodel = LinearRegression() "
   ]
  },
  {
   "cell_type": "code",
   "execution_count": 278,
   "id": "engaging-conditioning",
   "metadata": {},
   "outputs": [
    {
     "data": {
      "text/plain": [
       "LinearRegression()"
      ]
     },
     "execution_count": 278,
     "metadata": {},
     "output_type": "execute_result"
    }
   ],
   "source": [
    "linermodel.fit(neighbors_x.reshape(-1,2),neighbors_y.reshape(-1,1)) "
   ]
  },
  {
   "cell_type": "code",
   "execution_count": 279,
   "id": "infinite-wells",
   "metadata": {},
   "outputs": [
    {
     "data": {
      "text/plain": [
       "array([[18.16595607]])"
      ]
     },
     "execution_count": 279,
     "metadata": {},
     "output_type": "execute_result"
    }
   ],
   "source": [
    "linermodel.predict(np.array(X_test[0]).reshape(-1,2))# linear model predicted based on point X_test[0]"
   ]
  },
  {
   "cell_type": "code",
   "execution_count": 280,
   "id": "different-orientation",
   "metadata": {},
   "outputs": [
    {
     "data": {
      "text/plain": [
       "18.16595607153592"
      ]
     },
     "execution_count": 280,
     "metadata": {},
     "output_type": "execute_result"
    }
   ],
   "source": [
    "y_test[0] # real data point."
   ]
  },
  {
   "cell_type": "markdown",
   "id": "following-brighton",
   "metadata": {},
   "source": [
    "#### This step was done for control purposes. KNN algorithm is predicting based on the X_test[0] point."
   ]
  },
  {
   "cell_type": "code",
   "execution_count": 296,
   "id": "derived-headset",
   "metadata": {},
   "outputs": [],
   "source": [
    "y_predknn = model.predict(np.array(X_test[0]).reshape(-1,2)) "
   ]
  },
  {
   "cell_type": "code",
   "execution_count": 297,
   "id": "active-harassment",
   "metadata": {},
   "outputs": [
    {
     "data": {
      "text/plain": [
       "array([13.12238492])"
      ]
     },
     "execution_count": 297,
     "metadata": {},
     "output_type": "execute_result"
    }
   ],
   "source": [
    "y_predknn # KNN models prediction"
   ]
  },
  {
   "cell_type": "code",
   "execution_count": 283,
   "id": "enabling-current",
   "metadata": {},
   "outputs": [
    {
     "data": {
      "text/plain": [
       "(array([[0.17600248, 0.18883015, 0.22451835, 0.24984053, 0.25311048]]),\n",
       " array([[27,  5, 49, 14, 56]], dtype=int64))"
      ]
     },
     "execution_count": 283,
     "metadata": {},
     "output_type": "execute_result"
    }
   ],
   "source": [
    "model.kneighbors(np.array(X_test[0]).reshape(-1,2))"
   ]
  },
  {
   "cell_type": "code",
   "execution_count": null,
   "id": "peripheral-static",
   "metadata": {},
   "outputs": [],
   "source": []
  },
  {
   "cell_type": "markdown",
   "id": "norwegian-tulsa",
   "metadata": {},
   "source": [
    "#### New algorithm is here with subclass example."
   ]
  },
  {
   "cell_type": "code",
   "execution_count": 299,
   "id": "working-mouth",
   "metadata": {},
   "outputs": [],
   "source": [
    "class LocalizedRegressor(KNeighborsRegressor):\n",
    "    def predict(self,X):\n",
    "        y_preds = []\n",
    "        dist,inds=self.kneighbors(X)\n",
    "        features = self._fit_X[inds]\n",
    "        labels = self._y[inds] \n",
    "        for i in range(X.shape[0]):\n",
    "            X_lin = features[i]\n",
    "            y_lin = labels[i]\n",
    "            model_for_this_point = LinearRegression()\n",
    "            model_for_this_point.fit(X_lin,y_lin)\n",
    "            prediction = model_for_this_point.predict(X[i:i+1])\n",
    "            y_preds.append(prediction[0])\n",
    "        y_preds = np.array(y_preds)\n",
    "        return y_preds\n",
    "            "
   ]
  },
  {
   "cell_type": "code",
   "execution_count": 300,
   "id": "imported-switzerland",
   "metadata": {},
   "outputs": [],
   "source": [
    "m = LocalizedRegressor(n_neighbors=25)"
   ]
  },
  {
   "cell_type": "code",
   "execution_count": 301,
   "id": "alleged-pennsylvania",
   "metadata": {},
   "outputs": [
    {
     "data": {
      "text/plain": [
       "LocalizedRegressor(n_neighbors=25)"
      ]
     },
     "execution_count": 301,
     "metadata": {},
     "output_type": "execute_result"
    }
   ],
   "source": [
    "m.fit(X_train,y_train)"
   ]
  },
  {
   "cell_type": "code",
   "execution_count": 302,
   "id": "robust-funeral",
   "metadata": {},
   "outputs": [
    {
     "data": {
      "text/plain": [
       "array([18.16595607])"
      ]
     },
     "execution_count": 302,
     "metadata": {},
     "output_type": "execute_result"
    }
   ],
   "source": [
    "m.predict(X_test[0:1])"
   ]
  },
  {
   "cell_type": "markdown",
   "id": "creative-newark",
   "metadata": {},
   "source": [
    "#### Another class creation method"
   ]
  },
  {
   "cell_type": "code",
   "execution_count": 288,
   "id": "separated-vegetation",
   "metadata": {},
   "outputs": [],
   "source": [
    "class LocalizedRegressor: \n",
    "    \n",
    "    def knn(self,X_train,y_train):\n",
    "        self.X_train = X_train\n",
    "        self.y_train = y_train\n",
    "        self.X_test = X_test\n",
    "        self.y_test = y_test\n",
    "        self.model = KNeighborsRegressor(n_neighbors= int(input(\"Number of neighbor: \")))\n",
    "        self.model.fit(self.X_train,self.y_train)\n",
    "        \n",
    "    def nearestneighbor(self,X_test):\n",
    "        self.X_test = X_test\n",
    "        self.nearestneighbor=self.model.kneighbors(np.array(self.X_test[0]).reshape(-1,2))[1]\n",
    "        self.neighbors_x = [] # x and y data were created from close neighbors here.\n",
    "        self.neighbors_y = []\n",
    "        for i in self.nearestneighbor:\n",
    "            self.neighbors_x.append(self.X_train[i])\n",
    "            self.neighbors_y.append(self.y_train[i])\n",
    "        self.neighbors_x = np.array(self.neighbors_x)\n",
    "        self.neighbors_y = np.array(self.neighbors_y)\n",
    "            \n",
    "    def linermodel(self):\n",
    "        self.linermodel = LinearRegression()\n",
    "        self.linermodel.fit(self.neighbors_x.reshape(-1,2),self.neighbors_y.reshape(-1,1))\n",
    "         \n",
    "    def predict(self,m):\n",
    "        result = self.linermodel.predict(np.array(self.X_test[m]).reshape(-1,2))\n",
    "        return result"
   ]
  },
  {
   "cell_type": "code",
   "execution_count": 289,
   "id": "waiting-candle",
   "metadata": {},
   "outputs": [],
   "source": [
    "model1 = knnlin()"
   ]
  },
  {
   "cell_type": "code",
   "execution_count": 292,
   "id": "concerned-dancing",
   "metadata": {},
   "outputs": [
    {
     "name": "stdout",
     "output_type": "stream",
     "text": [
      "Number of neighbor: 55\n"
     ]
    }
   ],
   "source": [
    "model1.knn(X_train,y_train)"
   ]
  },
  {
   "cell_type": "code",
   "execution_count": 293,
   "id": "excess-arbor",
   "metadata": {},
   "outputs": [],
   "source": [
    "model1.nearestneighbor(X_test)"
   ]
  },
  {
   "cell_type": "code",
   "execution_count": 294,
   "id": "sporting-fighter",
   "metadata": {},
   "outputs": [],
   "source": [
    "model1.linermodel()"
   ]
  },
  {
   "cell_type": "code",
   "execution_count": 295,
   "id": "human-science",
   "metadata": {},
   "outputs": [
    {
     "data": {
      "text/plain": [
       "array([[18.16595607]])"
      ]
     },
     "execution_count": 295,
     "metadata": {},
     "output_type": "execute_result"
    }
   ],
   "source": [
    "model1.predict(0)"
   ]
  }
 ],
 "metadata": {
  "kernelspec": {
   "display_name": "Python 3",
   "language": "python",
   "name": "python3"
  },
  "language_info": {
   "codemirror_mode": {
    "name": "ipython",
    "version": 3
   },
   "file_extension": ".py",
   "mimetype": "text/x-python",
   "name": "python",
   "nbconvert_exporter": "python",
   "pygments_lexer": "ipython3",
   "version": "3.7.4"
  }
 },
 "nbformat": 4,
 "nbformat_minor": 5
}
